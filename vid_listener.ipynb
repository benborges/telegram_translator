{
 "cells": [
  {
   "cell_type": "code",
   "execution_count": 2,
   "metadata": {},
   "outputs": [],
   "source": [
    "import requests\n",
    "import json\n",
    "\n",
    "url1 = \"https://www.inoreader.com/stream/user/1004571328/tag/RussianTelegram/view/json\"\n",
    "response1 = json.loads(requests.get(url1).text)\n",
    "\n",
    "url2 = \"https://www.inoreader.com/stream/user/1005324229/tag/Telegram/view/json\"\n",
    "response2 = json.loads(requests.get(url2).text)\n",
    "\n",
    "url3 = \"https://www.inoreader.com/stream/user/1005326388/tag/Militants/view/json\"\n",
    "response3 = json.loads(requests.get(url3).text)"
   ]
  },
  {
   "cell_type": "code",
   "execution_count": 14,
   "metadata": {},
   "outputs": [],
   "source": [
    "import re\n",
    "\n",
    "channels_list = []\n",
    "\n",
    "for item in response1['items']:\n",
    "  target_string = item['url']\n",
    "  result = re.search(r\"https://t\\.me/(\\w+)/\\d+\", target_string)\n",
    "  channels_list.append(result.groups()[0])\n",
    "\n",
    "for item in response2['items']:\n",
    "  target_string = item['url']\n",
    "  result = re.search(r\"https://t\\.me/(\\w+)/\\d+\", target_string)\n",
    "  channels_list.append(result.groups()[0])\n",
    "\n",
    "for item in response3['items']:\n",
    "  target_string = item['url']\n",
    "  result = re.search(r\"https://t\\.me/(\\w+)/\\d+\", target_string)\n",
    "  channels_list.append(result.groups()[0])"
   ]
  },
  {
   "cell_type": "code",
   "execution_count": 15,
   "metadata": {},
   "outputs": [
    {
     "name": "stdout",
     "output_type": "stream",
     "text": [
      "['bbbreaking', 'bbbreaking', 'bbbreaking', 'rian_ru', 'russ_orientalist', 'rgrunews', 'milchronicles', 'donbass_photos', 'donbass_photos', 'russica2', 'mikayelbad', 'bditelnost', 'rybar', 'rybar', 'mosregtoday', 'chesnokmedia', 'bbbreaking', 'bbbreaking', 'rian_ru', 'rian_ru', 'SergeyKolyasnikov', 'SergeyKolyasnikov', 'SergeyKolyasnikov', 'SergeyKolyasnikov', 'SergeyKolyasnikov', 'SergeyKolyasnikov', 'voenacher', 'voenacher', 'voenacher', 'voenacher', 'voenacher', 'voenacher', 'voenacher', 'sashakots', 'RtrDonetsk', 'ChDambiev', 'ChDambiev', 'ChDambiev', 'margaritasimonyan', 'z_kharkovnash', 'OpenUkraine', 'OpenUkraine', 'OpenUkraine', 'OpenUkraine', 'WarDonbass', 'WarDonbass', 'WarDonbass', 'WarDonbass', 'WarDonbass', 'ghost_of_novorossia', 'ghost_of_novorossia', 'milinfolive', 'milinfolive', 'milinfolive', 'milinfolive', 'warfakes', 'dplatonova', 'surf_noise1', 'surf_noise1', 'svarschiki']\n"
     ]
    }
   ],
   "source": [
    "print(channels_list)"
   ]
  },
  {
   "cell_type": "code",
   "execution_count": 19,
   "metadata": {},
   "outputs": [
    {
     "name": "stdout",
     "output_type": "stream",
     "text": [
      "channel list length: 27\n",
      "ChDambiev\n",
      "OpenUkraine\n",
      "RtrDonetsk\n",
      "SergeyKolyasnikov\n",
      "WarDonbass\n",
      "bbbreaking\n",
      "bditelnost\n",
      "chesnokmedia\n",
      "donbass_photos\n",
      "dplatonova\n",
      "ghost_of_novorossia\n",
      "margaritasimonyan\n",
      "mikayelbad\n",
      "milchronicles\n",
      "milinfolive\n",
      "mosregtoday\n",
      "rgrunews\n",
      "rian_ru\n",
      "russ_orientalist\n",
      "russica2\n",
      "rybar\n",
      "sashakots\n",
      "surf_noise1\n",
      "svarschiki\n",
      "voenacher\n",
      "warfakes\n",
      "z_kharkovnash\n"
     ]
    }
   ],
   "source": [
    "sorted_list = sorted(list(set(channels_list)))\n",
    "print('channel list length:', len(sorted_list))\n",
    "for l in sorted_list:\n",
    "  print(l)"
   ]
  },
  {
   "cell_type": "code",
   "execution_count": 21,
   "metadata": {},
   "outputs": [],
   "source": [
    "from bs4 import BeautifulSoup\n",
    "\n",
    "url4 = \"https://www.inoreader.com/reader/subscriptions/export/user/1004571328/label/RussianTelegram\"\n",
    "soup4 = BeautifulSoup(requests.get(url4).text, \"lxml\")\n",
    "\n",
    "url5 = \"https://www.inoreader.com/reader/subscriptions/export/user/1005326388/label/Militants\"\n",
    "soup5 = BeautifulSoup(requests.get(url5).text, \"lxml\")\n",
    "\n",
    "url6 = \"https://www.inoreader.com/reader/subscriptions/export/user/1005324229/label/Telegram\"\n",
    "soup6 = BeautifulSoup(requests.get(url6).text, \"lxml\")"
   ]
  },
  {
   "cell_type": "code",
   "execution_count": 46,
   "metadata": {},
   "outputs": [
    {
     "name": "stdout",
     "output_type": "stream",
     "text": [
      "length of list: 66\n"
     ]
    }
   ],
   "source": [
    "outlines4 = soup4.find_all(\"outline\")\n",
    "outlines5 = soup5.find_all(\"outline\")\n",
    "outlines6 = soup6.find_all(\"outline\")\n",
    "\n",
    "links_list4 = [outline['htmlurl'] for outline in outlines4[1:]]\n",
    "links_list5 = [outline['htmlurl'] for outline in outlines5[1:]]\n",
    "links_list6 = [outline['htmlurl'] for outline in outlines6[1:]]\n",
    "\n",
    "links_list = list(set([*links_list4, *links_list5, *links_list6]))\n",
    "\n",
    "print('length of list:', len(links_list))\n",
    "\n",
    "channel_links = []\n",
    "\n",
    "for link in links_list:\n",
    "  result = re.search(r\"https://t\\.me/(\\w+)/?\\d*\", link)\n",
    "  channel_links.append(result.groups()[0])"
   ]
  },
  {
   "cell_type": "code",
   "execution_count": 48,
   "metadata": {},
   "outputs": [],
   "source": [
    "links_list = sorted(list(set([*sorted_list, *channel_links])))"
   ]
  },
  {
   "cell_type": "code",
   "execution_count": 52,
   "metadata": {},
   "outputs": [
    {
     "name": "stdout",
     "output_type": "stream",
     "text": [
      "length of list: 66\n",
      "ChDambiev\n",
      "Doninside\n",
      "MFARussia\n",
      "Murad_Gazdiev\n",
      "OpenUkraine\n",
      "RVvoenkor\n",
      "RtrDonetsk\n",
      "RusMissionOSCE\n",
      "RusTroyka\n",
      "SIL0VIKI\n",
      "SergeyKolyasnikov\n",
      "Soldieroffortune777\n",
      "SonOfMonarchy\n",
      "WarDonbass\n",
      "Za_Derjavy\n",
      "astramilitarum\n",
      "bbbreaking\n",
      "bditelnost\n",
      "boris_rozhin\n",
      "chesnokmedia\n",
      "cyber_frontZ\n",
      "daokedao\n",
      "donbass_photos\n",
      "donbassinsider\n",
      "donetsk_donbass\n",
      "dplatonova\n",
      "galulala\n",
      "ghost_of_novorossia\n",
      "grey_zone\n",
      "hackberegini\n",
      "intelslava\n",
      "livenec\n",
      "madam_secretar\n",
      "margaritasimonyan\n",
      "martovalieva1\n",
      "mig41\n",
      "mikayelbad\n",
      "milchronicles\n",
      "milinfolive\n",
      "mosregtoday\n",
      "neoficialniybezsonov\n",
      "notes_veterans\n",
      "npo_dvina\n",
      "opersvodki\n",
      "opyat22\n",
      "orda_mordora\n",
      "panteri_panteri\n",
      "rf200_now1\n",
      "rgrunews\n",
      "rian_ru\n",
      "rlz_the_kraken\n",
      "rusmonstr\n",
      "russ_orientalist\n",
      "russica2\n",
      "rybar\n",
      "sashakots\n",
      "soldiers_truth\n",
      "spletnicca\n",
      "stepnoy_veter\n",
      "surf_noise1\n",
      "svarschiki\n",
      "vladlentatarsky\n",
      "voenacher\n",
      "warfakes\n",
      "warwebm\n",
      "z_kharkovnash\n"
     ]
    }
   ],
   "source": [
    "print('length of list:', len(links_list))\n",
    "print(links_list)"
   ]
  },
  {
   "cell_type": "code",
   "execution_count": null,
   "metadata": {},
   "outputs": [],
   "source": []
  }
 ],
 "metadata": {
  "interpreter": {
   "hash": "98e49e2706393c23b19db0a25d5cf452f5af81b91cd76568b98cc09fa1b74c90"
  },
  "kernelspec": {
   "display_name": "Python 3.10.0 64-bit",
   "language": "python",
   "name": "python3"
  },
  "language_info": {
   "codemirror_mode": {
    "name": "ipython",
    "version": 3
   },
   "file_extension": ".py",
   "mimetype": "text/x-python",
   "name": "python",
   "nbconvert_exporter": "python",
   "pygments_lexer": "ipython3",
   "version": "3.10.0"
  },
  "orig_nbformat": 4
 },
 "nbformat": 4,
 "nbformat_minor": 2
}
